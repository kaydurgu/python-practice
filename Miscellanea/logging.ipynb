{
 "cells": [
  {
   "cell_type": "markdown",
   "metadata": {},
   "source": [
    "# Logging\n",
    "Модуль `logging` в Python — это набор функций и классов, которые позволяют регистрировать события, происходящие во время работы кода. Этот `*модуль входит в стандартную библиотеку*`, поэтому для его использования достаточно написать лишь одну строку"
   ]
  },
  {
   "cell_type": "code",
   "execution_count": null,
   "metadata": {},
   "outputs": [],
   "source": [
    "import logging"
   ]
  },
  {
   "cell_type": "markdown",
   "metadata": {},
   "source": [
    "`basicConfig()`. В ней Вы будете указывать все основные настройки (по крайней мере, на базовом уровне).\n",
    "У функции basicConfig() 3 основных параметра:\n",
    "\n",
    "1. `level` — уровень логирования на Python;\n",
    "2. `filename` — место, куда мы направляем логи;\n",
    "3. `format` — вид, в котором мы сохраняем результат.\n",
    "\n",
    "|      Level    |   Value   |\n",
    "|---------------|-----------|\n",
    "|logging.NOTSET | 0| \n",
    "|logging.DEBUG  | 10|\n",
    "|logging.INFO   | 20|\n",
    "|logging.WARNING| 30|\n",
    "|logging.ERROR  | 40|\n",
    "|logging.CRITICAL  |50 |"
   ]
  },
  {
   "cell_type": "code",
   "execution_count": null,
   "metadata": {},
   "outputs": [],
   "source": [
    "logging.debug('msg')\n",
    "logging.info('msg')\n",
    "logging.warning('msg')\n",
    "logging.error('msg')\n",
    "logging.critical('msg')"
   ]
  },
  {
   "cell_type": "code",
   "execution_count": null,
   "metadata": {},
   "outputs": [],
   "source": [
    "import logging\n",
    "logging.basicConfig(filename='sample.log',format='%(levelname)s %(asctime)s %(message)s', level=logging.DEBUG)\n",
    "\n",
    "logging.debug('debug')\n",
    "\n",
    "logging.warning('warning')\n",
    "\n",
    "logging.error('error')"
   ]
  },
  {
   "cell_type": "markdown",
   "metadata": {},
   "source": [
    "`format`\n",
    "\n",
    "format = \"%(asctime)s - %(levelname)s - %(funcName)s: %(lineno)d - %(message)s\"\n",
    "\n",
    "`2019-01-16 10:35:12,468 - ERROR - <module>:1 - Hello, world!` \n"
   ]
  }
 ],
 "metadata": {
  "interpreter": {
   "hash": "25ec7941b4c2cf87aaaba0ea2952f5a7943533ae8fb4f453a480368ab5da4d8e"
  },
  "kernelspec": {
   "display_name": "Python 3.8.6 64-bit",
   "language": "python",
   "name": "python3"
  },
  "language_info": {
   "codemirror_mode": {
    "name": "ipython",
    "version": 3
   },
   "file_extension": ".py",
   "mimetype": "text/x-python",
   "name": "python",
   "nbconvert_exporter": "python",
   "pygments_lexer": "ipython3",
   "version": "3.8.6"
  },
  "orig_nbformat": 4
 },
 "nbformat": 4,
 "nbformat_minor": 2
}
